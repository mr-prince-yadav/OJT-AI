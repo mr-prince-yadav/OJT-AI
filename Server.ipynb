{
 "cells": [
  {
   "cell_type": "markdown",
   "id": "1fb4355b",
   "metadata": {},
   "source": [
    "## <code> Open Cmd or PowerShell in file location </code> \n",
    "## <code> ipconfig (check IPv4 Address) </code>\n",
    "## <code> C:\\Windows\\System32\\ipconfig.exe </code>\n",
    "\n",
    "## <code> Open CMD run \" python -m http.server 8000\"</code>\n",
    "## <code> Open Notepad \" {IPv4 address}:8000\" </code>"
   ]
  },
  {
   "cell_type": "markdown",
   "id": "45e47295",
   "metadata": {},
   "source": [
    "# <b>Ollama LLM</b>"
   ]
  },
  {
   "cell_type": "markdown",
   "id": "6cacccd7",
   "metadata": {},
   "source": [
    "### <code>install ollama</code> <br>\n",
    "### <code>open cmd run \"ollama pull {llm}</code>"
   ]
  },
  {
   "cell_type": "code",
   "execution_count": null,
   "id": "a42256cd",
   "metadata": {
    "vscode": {
     "languageId": "plaintext"
    }
   },
   "outputs": [],
   "source": []
  },
  {
   "cell_type": "markdown",
   "id": "ca701b5f",
   "metadata": {},
   "source": []
  }
 ],
 "metadata": {
  "language_info": {
   "name": "python"
  }
 },
 "nbformat": 4,
 "nbformat_minor": 5
}
