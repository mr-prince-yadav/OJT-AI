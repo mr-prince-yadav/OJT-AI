{
 "cells": [
  {
   "cell_type": "code",
   "execution_count": 2,
   "id": "0b0ee048",
   "metadata": {},
   "outputs": [],
   "source": [
    "import pandas as pd"
   ]
  },
  {
   "cell_type": "code",
   "execution_count": null,
   "id": "f48165fc",
   "metadata": {},
   "outputs": [],
   "source": [
    "#python -m venv ojt\n",
    "\n",
    "#.\\ojt\\Scripts\\activate\n",
    "\n",
    "#pip install -r .\\requirements.txt"
   ]
  }
 ],
 "metadata": {
  "kernelspec": {
   "display_name": "ojt",
   "language": "python",
   "name": "python3"
  },
  "language_info": {
   "codemirror_mode": {
    "name": "ipython",
    "version": 3
   },
   "file_extension": ".py",
   "mimetype": "text/x-python",
   "name": "python",
   "nbconvert_exporter": "python",
   "pygments_lexer": "ipython3",
   "version": "3.13.1"
  }
 },
 "nbformat": 4,
 "nbformat_minor": 5
}
