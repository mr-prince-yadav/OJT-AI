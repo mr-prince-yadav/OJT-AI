{
 "cells": [
  {
   "cell_type": "markdown",
   "id": "90b85eed",
   "metadata": {},
   "source": [
    "## <u><b> GITHUB SETUP </b></u>"
   ]
  },
  {
   "cell_type": "markdown",
   "id": "e070b2f7",
   "metadata": {},
   "source": [
    "## <b>Steps:</b>"
   ]
  },
  {
   "cell_type": "markdown",
   "id": "bc7be2a0",
   "metadata": {},
   "source": [
    "<ol type=\"1\">\n",
    "  <li>Log in to <a href=\"https://github.com\" target=\"_blank\">GitHub</a></li>\n",
    "  <li>Download and install Git from \n",
    "    <a href=\"https://git-scm.com/downloads\" target=\"_blank\">git-scm.com</a>\n",
    "  </li>\n",
    "  <li>Go to the desired repository on GitHub and click the <strong>\"Code\"</strong> button to copy the repository URL</li>\n",
    "  <li>Open Command Prompt (CMD) and run the following command:<br>\n",
    "    <code>git clone {repository-url};</code>\n",
    "  </li>\n",
    "  <li>Navigate to the cloned folder (if needed), then run:<br>\n",
    "    <code>git pull</code>\n",
    "  </li>\n",
    "  <li>Configure Git:<br>\n",
    "    <code>git config --global user.name \"Your Name\"</code><br>\n",
    "    <code>git config --global user.email \"your-email@gmail.com\"</code>\n",
    "  </li>\n",
    "</ol>\n"
   ]
  },
  {
   "cell_type": "markdown",
   "id": "a54c7a45",
   "metadata": {},
   "source": []
  }
 ],
 "metadata": {
  "language_info": {
   "name": "python"
  }
 },
 "nbformat": 4,
 "nbformat_minor": 5
}
