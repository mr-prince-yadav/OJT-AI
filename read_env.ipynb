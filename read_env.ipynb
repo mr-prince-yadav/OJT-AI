{
 "cells": [
  {
   "cell_type": "markdown",
   "id": "9fc04f30",
   "metadata": {},
   "source": [
    "# python -m venv ojt\n",
    "\n",
    "# .\\ojt\\Scripts\\activate\n",
    "\n",
    "# pip install -r .\\requirements.txt"
   ]
  },
  {
   "cell_type": "code",
   "execution_count": 5,
   "id": "fc157126",
   "metadata": {},
   "outputs": [
    {
     "name": "stdout",
     "output_type": "stream",
     "text": [
      "Requirement already satisfied: dotenv in c:\\users\\admin\\desktop\\prince\\ojt-ai\\ojt\\lib\\site-packages (0.9.9)\n",
      "Requirement already satisfied: python-dotenv in c:\\users\\admin\\desktop\\prince\\ojt-ai\\ojt\\lib\\site-packages (from dotenv) (1.1.0)\n"
     ]
    }
   ],
   "source": [
    "!pip install dotenv"
   ]
  },
  {
   "cell_type": "code",
   "execution_count": 6,
   "id": "479b94ad",
   "metadata": {},
   "outputs": [
    {
     "data": {
      "text/plain": [
       "True"
      ]
     },
     "execution_count": 6,
     "metadata": {},
     "output_type": "execute_result"
    }
   ],
   "source": [
    "import os\n",
    "from dotenv import load_dotenv\n",
    "load_dotenv()"
   ]
  },
  {
   "cell_type": "code",
   "execution_count": 13,
   "id": "f34b750d",
   "metadata": {},
   "outputs": [
    {
     "name": "stdout",
     "output_type": "stream",
     "text": [
      "prince\n",
      "prince@ojt\n"
     ]
    }
   ],
   "source": [
    "db_name = os.getenv(\"DB_NAME\")\n",
    "db_pwd = os.getenv(\"DB_PWD\")\n",
    "\n",
    "print(db_name)\n",
    "print(db_pwd)"
   ]
  },
  {
   "cell_type": "code",
   "execution_count": null,
   "id": "6223fcad",
   "metadata": {},
   "outputs": [],
   "source": []
  },
  {
   "cell_type": "markdown",
   "id": "62eb8c81",
   "metadata": {},
   "source": []
  }
 ],
 "metadata": {
  "kernelspec": {
   "display_name": "ojt",
   "language": "python",
   "name": "python3"
  },
  "language_info": {
   "codemirror_mode": {
    "name": "ipython",
    "version": 3
   },
   "file_extension": ".py",
   "mimetype": "text/x-python",
   "name": "python",
   "nbconvert_exporter": "python",
   "pygments_lexer": "ipython3",
   "version": "3.13.1"
  }
 },
 "nbformat": 4,
 "nbformat_minor": 5
}
