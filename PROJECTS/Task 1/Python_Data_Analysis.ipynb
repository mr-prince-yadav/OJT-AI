{
 "cells": [
  {
   "cell_type": "code",
   "execution_count": 1,
   "id": "31cf2d22",
   "metadata": {},
   "outputs": [],
   "source": [
    "import pandas as pd\n",
    "import missingno as mso\n",
    "import matplotlib.pyplot as plt\n",
    "import seaborn as sns"
   ]
  },
  {
   "cell_type": "code",
   "execution_count": 2,
   "id": "aa9925c8",
   "metadata": {},
   "outputs": [
    {
     "data": {
      "text/html": [
       "<div>\n",
       "<style scoped>\n",
       "    .dataframe tbody tr th:only-of-type {\n",
       "        vertical-align: middle;\n",
       "    }\n",
       "\n",
       "    .dataframe tbody tr th {\n",
       "        vertical-align: top;\n",
       "    }\n",
       "\n",
       "    .dataframe thead th {\n",
       "        text-align: right;\n",
       "    }\n",
       "</style>\n",
       "<table border=\"1\" class=\"dataframe\">\n",
       "  <thead>\n",
       "    <tr style=\"text-align: right;\">\n",
       "      <th></th>\n",
       "      <th>Order ID</th>\n",
       "      <th>Customer Name</th>\n",
       "      <th>Category</th>\n",
       "      <th>Sub Category</th>\n",
       "      <th>City</th>\n",
       "      <th>Order Date</th>\n",
       "      <th>Region</th>\n",
       "      <th>Sales</th>\n",
       "      <th>Discount</th>\n",
       "      <th>Profit</th>\n",
       "      <th>State</th>\n",
       "    </tr>\n",
       "  </thead>\n",
       "  <tbody>\n",
       "    <tr>\n",
       "      <th>0</th>\n",
       "      <td>OD1</td>\n",
       "      <td>Harish</td>\n",
       "      <td>Oil &amp; Masala</td>\n",
       "      <td>Masalas</td>\n",
       "      <td>Vellore</td>\n",
       "      <td>11-08-2017</td>\n",
       "      <td>North</td>\n",
       "      <td>1254</td>\n",
       "      <td>0.12</td>\n",
       "      <td>401.28</td>\n",
       "      <td>Tamil Nadu</td>\n",
       "    </tr>\n",
       "    <tr>\n",
       "      <th>1</th>\n",
       "      <td>OD2</td>\n",
       "      <td>Sudha</td>\n",
       "      <td>Beverages</td>\n",
       "      <td>Health Drinks</td>\n",
       "      <td>Krishnagiri</td>\n",
       "      <td>11-08-2017</td>\n",
       "      <td>South</td>\n",
       "      <td>749</td>\n",
       "      <td>0.18</td>\n",
       "      <td>149.80</td>\n",
       "      <td>Tamil Nadu</td>\n",
       "    </tr>\n",
       "    <tr>\n",
       "      <th>2</th>\n",
       "      <td>OD3</td>\n",
       "      <td>Hussain</td>\n",
       "      <td>Food Grains</td>\n",
       "      <td>Atta &amp; Flour</td>\n",
       "      <td>Perambalur</td>\n",
       "      <td>06-12-2017</td>\n",
       "      <td>West</td>\n",
       "      <td>2360</td>\n",
       "      <td>0.21</td>\n",
       "      <td>165.20</td>\n",
       "      <td>Tamil Nadu</td>\n",
       "    </tr>\n",
       "    <tr>\n",
       "      <th>3</th>\n",
       "      <td>OD4</td>\n",
       "      <td>Jackson</td>\n",
       "      <td>Fruits &amp; Veggies</td>\n",
       "      <td>Fresh Vegetables</td>\n",
       "      <td>Dharmapuri</td>\n",
       "      <td>10-11-2016</td>\n",
       "      <td>South</td>\n",
       "      <td>896</td>\n",
       "      <td>0.25</td>\n",
       "      <td>89.60</td>\n",
       "      <td>Tamil Nadu</td>\n",
       "    </tr>\n",
       "    <tr>\n",
       "      <th>4</th>\n",
       "      <td>OD5</td>\n",
       "      <td>Ridhesh</td>\n",
       "      <td>Food Grains</td>\n",
       "      <td>Organic Staples</td>\n",
       "      <td>Ooty</td>\n",
       "      <td>10-11-2016</td>\n",
       "      <td>South</td>\n",
       "      <td>2355</td>\n",
       "      <td>0.26</td>\n",
       "      <td>918.45</td>\n",
       "      <td>Tamil Nadu</td>\n",
       "    </tr>\n",
       "    <tr>\n",
       "      <th>...</th>\n",
       "      <td>...</td>\n",
       "      <td>...</td>\n",
       "      <td>...</td>\n",
       "      <td>...</td>\n",
       "      <td>...</td>\n",
       "      <td>...</td>\n",
       "      <td>...</td>\n",
       "      <td>...</td>\n",
       "      <td>...</td>\n",
       "      <td>...</td>\n",
       "      <td>...</td>\n",
       "    </tr>\n",
       "    <tr>\n",
       "      <th>9989</th>\n",
       "      <td>OD9990</td>\n",
       "      <td>Sudeep</td>\n",
       "      <td>Eggs, Meat &amp; Fish</td>\n",
       "      <td>Eggs</td>\n",
       "      <td>Madurai</td>\n",
       "      <td>12/24/2015</td>\n",
       "      <td>West</td>\n",
       "      <td>945</td>\n",
       "      <td>0.16</td>\n",
       "      <td>359.10</td>\n",
       "      <td>Tamil Nadu</td>\n",
       "    </tr>\n",
       "    <tr>\n",
       "      <th>9990</th>\n",
       "      <td>OD9991</td>\n",
       "      <td>Alan</td>\n",
       "      <td>Bakery</td>\n",
       "      <td>Biscuits</td>\n",
       "      <td>Kanyakumari</td>\n",
       "      <td>07-12-2015</td>\n",
       "      <td>West</td>\n",
       "      <td>1195</td>\n",
       "      <td>0.26</td>\n",
       "      <td>71.70</td>\n",
       "      <td>Tamil Nadu</td>\n",
       "    </tr>\n",
       "    <tr>\n",
       "      <th>9991</th>\n",
       "      <td>OD9992</td>\n",
       "      <td>Ravi</td>\n",
       "      <td>Food Grains</td>\n",
       "      <td>Rice</td>\n",
       "      <td>Bodi</td>\n",
       "      <td>06-06-2017</td>\n",
       "      <td>West</td>\n",
       "      <td>1567</td>\n",
       "      <td>0.16</td>\n",
       "      <td>501.44</td>\n",
       "      <td>Tamil Nadu</td>\n",
       "    </tr>\n",
       "    <tr>\n",
       "      <th>9992</th>\n",
       "      <td>OD9993</td>\n",
       "      <td>Peer</td>\n",
       "      <td>Oil &amp; Masala</td>\n",
       "      <td>Spices</td>\n",
       "      <td>Pudukottai</td>\n",
       "      <td>10/16/2018</td>\n",
       "      <td>West</td>\n",
       "      <td>1659</td>\n",
       "      <td>0.15</td>\n",
       "      <td>597.24</td>\n",
       "      <td>Tamil Nadu</td>\n",
       "    </tr>\n",
       "    <tr>\n",
       "      <th>9993</th>\n",
       "      <td>OD9994</td>\n",
       "      <td>Ganesh</td>\n",
       "      <td>Food Grains</td>\n",
       "      <td>Atta &amp; Flour</td>\n",
       "      <td>Tirunelveli</td>\n",
       "      <td>4/17/2018</td>\n",
       "      <td>West</td>\n",
       "      <td>1034</td>\n",
       "      <td>0.28</td>\n",
       "      <td>165.44</td>\n",
       "      <td>Tamil Nadu</td>\n",
       "    </tr>\n",
       "  </tbody>\n",
       "</table>\n",
       "<p>9994 rows × 11 columns</p>\n",
       "</div>"
      ],
      "text/plain": [
       "     Order ID Customer Name           Category      Sub Category         City  \\\n",
       "0         OD1        Harish       Oil & Masala           Masalas      Vellore   \n",
       "1         OD2         Sudha          Beverages     Health Drinks  Krishnagiri   \n",
       "2         OD3       Hussain        Food Grains      Atta & Flour   Perambalur   \n",
       "3         OD4       Jackson   Fruits & Veggies  Fresh Vegetables   Dharmapuri   \n",
       "4         OD5       Ridhesh        Food Grains   Organic Staples         Ooty   \n",
       "...       ...           ...                ...               ...          ...   \n",
       "9989   OD9990        Sudeep  Eggs, Meat & Fish              Eggs      Madurai   \n",
       "9990   OD9991          Alan             Bakery          Biscuits  Kanyakumari   \n",
       "9991   OD9992          Ravi        Food Grains              Rice         Bodi   \n",
       "9992   OD9993          Peer       Oil & Masala            Spices   Pudukottai   \n",
       "9993   OD9994        Ganesh        Food Grains      Atta & Flour  Tirunelveli   \n",
       "\n",
       "      Order Date Region  Sales  Discount  Profit       State  \n",
       "0     11-08-2017  North   1254      0.12  401.28  Tamil Nadu  \n",
       "1     11-08-2017  South    749      0.18  149.80  Tamil Nadu  \n",
       "2     06-12-2017   West   2360      0.21  165.20  Tamil Nadu  \n",
       "3     10-11-2016  South    896      0.25   89.60  Tamil Nadu  \n",
       "4     10-11-2016  South   2355      0.26  918.45  Tamil Nadu  \n",
       "...          ...    ...    ...       ...     ...         ...  \n",
       "9989  12/24/2015   West    945      0.16  359.10  Tamil Nadu  \n",
       "9990  07-12-2015   West   1195      0.26   71.70  Tamil Nadu  \n",
       "9991  06-06-2017   West   1567      0.16  501.44  Tamil Nadu  \n",
       "9992  10/16/2018   West   1659      0.15  597.24  Tamil Nadu  \n",
       "9993   4/17/2018   West   1034      0.28  165.44  Tamil Nadu  \n",
       "\n",
       "[9994 rows x 11 columns]"
      ]
     },
     "execution_count": 2,
     "metadata": {},
     "output_type": "execute_result"
    }
   ],
   "source": [
    "df=pd.read_csv(\"Supermart Grocery Sales - Retail Analytics Dataset.csv\")\n",
    "df"
   ]
  },
  {
   "cell_type": "code",
   "execution_count": 3,
   "id": "004066c2",
   "metadata": {},
   "outputs": [
    {
     "data": {
      "text/html": [
       "<div>\n",
       "<style scoped>\n",
       "    .dataframe tbody tr th:only-of-type {\n",
       "        vertical-align: middle;\n",
       "    }\n",
       "\n",
       "    .dataframe tbody tr th {\n",
       "        vertical-align: top;\n",
       "    }\n",
       "\n",
       "    .dataframe thead th {\n",
       "        text-align: right;\n",
       "    }\n",
       "</style>\n",
       "<table border=\"1\" class=\"dataframe\">\n",
       "  <thead>\n",
       "    <tr style=\"text-align: right;\">\n",
       "      <th></th>\n",
       "      <th>Order ID</th>\n",
       "      <th>Customer Name</th>\n",
       "      <th>Category</th>\n",
       "      <th>Sub Category</th>\n",
       "      <th>City</th>\n",
       "      <th>Order Date</th>\n",
       "      <th>Region</th>\n",
       "      <th>Sales</th>\n",
       "      <th>Discount</th>\n",
       "      <th>Profit</th>\n",
       "      <th>State</th>\n",
       "    </tr>\n",
       "  </thead>\n",
       "  <tbody>\n",
       "    <tr>\n",
       "      <th>0</th>\n",
       "      <td>OD1</td>\n",
       "      <td>Harish</td>\n",
       "      <td>Oil &amp; Masala</td>\n",
       "      <td>Masalas</td>\n",
       "      <td>Vellore</td>\n",
       "      <td>11-08-2017</td>\n",
       "      <td>North</td>\n",
       "      <td>1254</td>\n",
       "      <td>0.12</td>\n",
       "      <td>401.28</td>\n",
       "      <td>Tamil Nadu</td>\n",
       "    </tr>\n",
       "    <tr>\n",
       "      <th>1</th>\n",
       "      <td>OD2</td>\n",
       "      <td>Sudha</td>\n",
       "      <td>Beverages</td>\n",
       "      <td>Health Drinks</td>\n",
       "      <td>Krishnagiri</td>\n",
       "      <td>11-08-2017</td>\n",
       "      <td>South</td>\n",
       "      <td>749</td>\n",
       "      <td>0.18</td>\n",
       "      <td>149.80</td>\n",
       "      <td>Tamil Nadu</td>\n",
       "    </tr>\n",
       "    <tr>\n",
       "      <th>2</th>\n",
       "      <td>OD3</td>\n",
       "      <td>Hussain</td>\n",
       "      <td>Food Grains</td>\n",
       "      <td>Atta &amp; Flour</td>\n",
       "      <td>Perambalur</td>\n",
       "      <td>06-12-2017</td>\n",
       "      <td>West</td>\n",
       "      <td>2360</td>\n",
       "      <td>0.21</td>\n",
       "      <td>165.20</td>\n",
       "      <td>Tamil Nadu</td>\n",
       "    </tr>\n",
       "    <tr>\n",
       "      <th>3</th>\n",
       "      <td>OD4</td>\n",
       "      <td>Jackson</td>\n",
       "      <td>Fruits &amp; Veggies</td>\n",
       "      <td>Fresh Vegetables</td>\n",
       "      <td>Dharmapuri</td>\n",
       "      <td>10-11-2016</td>\n",
       "      <td>South</td>\n",
       "      <td>896</td>\n",
       "      <td>0.25</td>\n",
       "      <td>89.60</td>\n",
       "      <td>Tamil Nadu</td>\n",
       "    </tr>\n",
       "    <tr>\n",
       "      <th>4</th>\n",
       "      <td>OD5</td>\n",
       "      <td>Ridhesh</td>\n",
       "      <td>Food Grains</td>\n",
       "      <td>Organic Staples</td>\n",
       "      <td>Ooty</td>\n",
       "      <td>10-11-2016</td>\n",
       "      <td>South</td>\n",
       "      <td>2355</td>\n",
       "      <td>0.26</td>\n",
       "      <td>918.45</td>\n",
       "      <td>Tamil Nadu</td>\n",
       "    </tr>\n",
       "  </tbody>\n",
       "</table>\n",
       "</div>"
      ],
      "text/plain": [
       "  Order ID Customer Name          Category      Sub Category         City  \\\n",
       "0      OD1        Harish      Oil & Masala           Masalas      Vellore   \n",
       "1      OD2         Sudha         Beverages     Health Drinks  Krishnagiri   \n",
       "2      OD3       Hussain       Food Grains      Atta & Flour   Perambalur   \n",
       "3      OD4       Jackson  Fruits & Veggies  Fresh Vegetables   Dharmapuri   \n",
       "4      OD5       Ridhesh       Food Grains   Organic Staples         Ooty   \n",
       "\n",
       "   Order Date Region  Sales  Discount  Profit       State  \n",
       "0  11-08-2017  North   1254      0.12  401.28  Tamil Nadu  \n",
       "1  11-08-2017  South    749      0.18  149.80  Tamil Nadu  \n",
       "2  06-12-2017   West   2360      0.21  165.20  Tamil Nadu  \n",
       "3  10-11-2016  South    896      0.25   89.60  Tamil Nadu  \n",
       "4  10-11-2016  South   2355      0.26  918.45  Tamil Nadu  "
      ]
     },
     "execution_count": 3,
     "metadata": {},
     "output_type": "execute_result"
    }
   ],
   "source": [
    "df.head()"
   ]
  },
  {
   "cell_type": "code",
   "execution_count": 4,
   "id": "b4d9680f",
   "metadata": {},
   "outputs": [
    {
     "name": "stdout",
     "output_type": "stream",
     "text": [
      "<class 'pandas.core.frame.DataFrame'>\n",
      "RangeIndex: 9994 entries, 0 to 9993\n",
      "Data columns (total 11 columns):\n",
      " #   Column         Non-Null Count  Dtype  \n",
      "---  ------         --------------  -----  \n",
      " 0   Order ID       9994 non-null   object \n",
      " 1   Customer Name  9994 non-null   object \n",
      " 2   Category       9994 non-null   object \n",
      " 3   Sub Category   9994 non-null   object \n",
      " 4   City           9994 non-null   object \n",
      " 5   Order Date     9994 non-null   object \n",
      " 6   Region         9994 non-null   object \n",
      " 7   Sales          9994 non-null   int64  \n",
      " 8   Discount       9994 non-null   float64\n",
      " 9   Profit         9994 non-null   float64\n",
      " 10  State          9994 non-null   object \n",
      "dtypes: float64(2), int64(1), object(8)\n",
      "memory usage: 859.0+ KB\n"
     ]
    }
   ],
   "source": [
    "df.info()"
   ]
  },
  {
   "cell_type": "code",
   "execution_count": 5,
   "id": "354b4d1b",
   "metadata": {},
   "outputs": [
    {
     "data": {
      "text/plain": [
       "Order ID          object\n",
       "Customer Name     object\n",
       "Category          object\n",
       "Sub Category      object\n",
       "City              object\n",
       "Order Date        object\n",
       "Region            object\n",
       "Sales              int64\n",
       "Discount         float64\n",
       "Profit           float64\n",
       "State             object\n",
       "dtype: object"
      ]
     },
     "execution_count": 5,
     "metadata": {},
     "output_type": "execute_result"
    }
   ],
   "source": [
    "df.dtypes"
   ]
  },
  {
   "cell_type": "code",
   "execution_count": 8,
   "id": "7358a903",
   "metadata": {},
   "outputs": [
    {
     "data": {
      "text/plain": [
       "0       11-08-2017\n",
       "1       11-08-2017\n",
       "2       06-12-2017\n",
       "3       10-11-2016\n",
       "4       10-11-2016\n",
       "           ...    \n",
       "9989    12/24/2015\n",
       "9990    07-12-2015\n",
       "9991    06-06-2017\n",
       "9992    10/16/2018\n",
       "9993     4/17/2018\n",
       "Name: Order Date, Length: 9994, dtype: object"
      ]
     },
     "execution_count": 8,
     "metadata": {},
     "output_type": "execute_result"
    }
   ],
   "source": [
    "df['Order Date']"
   ]
  },
  {
   "cell_type": "code",
   "execution_count": 10,
   "id": "db186b69",
   "metadata": {},
   "outputs": [],
   "source": [
    "df['Order Date']=pd.to_datetime(df['Order Date'],format=\"mixed\")"
   ]
  },
  {
   "cell_type": "code",
   "execution_count": 12,
   "id": "c499aac5",
   "metadata": {},
   "outputs": [
    {
     "data": {
      "text/plain": [
       "Order ID                 object\n",
       "Customer Name            object\n",
       "Category                 object\n",
       "Sub Category             object\n",
       "City                     object\n",
       "Order Date       datetime64[ns]\n",
       "Region                   object\n",
       "Sales                     int64\n",
       "Discount                float64\n",
       "Profit                  float64\n",
       "State                    object\n",
       "dtype: object"
      ]
     },
     "execution_count": 12,
     "metadata": {},
     "output_type": "execute_result"
    }
   ],
   "source": [
    "df.dtypes"
   ]
  },
  {
   "cell_type": "code",
   "execution_count": 13,
   "id": "cc381c16",
   "metadata": {},
   "outputs": [
    {
     "data": {
      "text/plain": [
       "Order ID         0\n",
       "Customer Name    0\n",
       "Category         0\n",
       "Sub Category     0\n",
       "City             0\n",
       "Order Date       0\n",
       "Region           0\n",
       "Sales            0\n",
       "Discount         0\n",
       "Profit           0\n",
       "State            0\n",
       "dtype: int64"
      ]
     },
     "execution_count": 13,
     "metadata": {},
     "output_type": "execute_result"
    }
   ],
   "source": [
    "df.isnull().sum()"
   ]
  },
  {
   "cell_type": "code",
   "execution_count": 14,
   "id": "c7065423",
   "metadata": {},
   "outputs": [
    {
     "data": {
      "text/plain": [
       "<Axes: >"
      ]
     },
     "execution_count": 14,
     "metadata": {},
     "output_type": "execute_result"
    },
    {
     "data": {
      "image/png": "[encoded data removed]",
      "text/plain": [
       "<Figure size 2500x1000 with 2 Axes>"
      ]
     },
     "metadata": {},
     "output_type": "display_data"
    }
   ],
   "source": [
    "mso.matrix(df)"
   ]
  },
  {
   "cell_type": "code",
   "execution_count": 20,
   "id": "8691b269",
   "metadata": {},
   "outputs": [
    {
     "data": {
      "image/png": "[encoded data removed]",
      "text/plain": [
       "<Figure size 640x480 with 1 Axes>"
      ]
     },
     "metadata": {},
     "output_type": "display_data"
    }
   ],
   "source": [
    "plt.title(\"Bar Chart\")\n",
    "plt.xlabel(\"Order Date\")\n",
    "plt.ylabel(\"Sales\")\n",
    "plt.bar(df['Order Date'],df['Sales'])\n",
    "plt.tight_layout()\n",
    "plt.show()"
   ]
  },
  {
   "cell_type": "code",
   "execution_count": 21,
   "id": "653c0a5e",
   "metadata": {},
   "outputs": [
    {
     "data": {
      "text/plain": [
       "Category\n",
       "Snacks               1514\n",
       "Eggs, Meat & Fish    1490\n",
       "Fruits & Veggies     1418\n",
       "Bakery               1413\n",
       "Beverages            1400\n",
       "Food Grains          1398\n",
       "Oil & Masala         1361\n",
       "Name: count, dtype: int64"
      ]
     },
     "execution_count": 21,
     "metadata": {},
     "output_type": "execute_result"
    }
   ],
   "source": [
    "df['Category'].value_counts()"
   ]
  },
  {
   "cell_type": "code",
   "execution_count": 26,
   "id": "ec86025d",
   "metadata": {},
   "outputs": [
    {
     "name": "stdout",
     "output_type": "stream",
     "text": [
      "Category\n",
      "Bakery               1494.891012\n",
      "Beverages            1489.509286\n",
      "Eggs, Meat & Fish    1521.745638\n",
      "Food Grains          1513.070100\n",
      "Fruits & Veggies     1481.471791\n",
      "Oil & Masala         1497.753123\n",
      "Snacks               1477.903567\n",
      "Name: Sales, dtype: float64\n"
     ]
    }
   ],
   "source": [
    "category_avg = df.groupby('Category')['Sales'].mean()\n",
    "print(category_avg)"
   ]
  },
  {
   "cell_type": "code",
   "execution_count": 24,
   "id": "e0d1ec36",
   "metadata": {},
   "outputs": [
    {
     "data": {
      "image/png": "[encoded data removed]",
      "text/plain": [
       "<Figure size 600x600 with 1 Axes>"
      ]
     },
     "metadata": {},
     "output_type": "display_data"
    }
   ],
   "source": [
    "plt.figure(figsize=(6,6))\n",
    "explode=(0.1,0,0,0,0,0,0)\n",
    "plt.pie(df[\"Category\"].value_counts(),colors=[\"pink\",\"lightyellow\",\"Lightblue\",\"lightgreen\",\"gray\",\"cyan\",\"brown\"], explode=explode, autopct='%1.1f%%', shadow=True, startangle=140)\n",
    "plt.title(\"Pie chart\")\n",
    "plt.axis('equal')\n",
    "plt.show()"
   ]
  },
  {
   "cell_type": "code",
   "execution_count": 15,
   "id": "332dc5af",
   "metadata": {},
   "outputs": [
    {
     "data": {
      "text/html": [
       "<div>\n",
       "<style scoped>\n",
       "    .dataframe tbody tr th:only-of-type {\n",
       "        vertical-align: middle;\n",
       "    }\n",
       "\n",
       "    .dataframe tbody tr th {\n",
       "        vertical-align: top;\n",
       "    }\n",
       "\n",
       "    .dataframe thead th {\n",
       "        text-align: right;\n",
       "    }\n",
       "</style>\n",
       "<table border=\"1\" class=\"dataframe\">\n",
       "  <thead>\n",
       "    <tr style=\"text-align: right;\">\n",
       "      <th></th>\n",
       "      <th>Sales</th>\n",
       "      <th>Discount</th>\n",
       "      <th>Profit</th>\n",
       "    </tr>\n",
       "  </thead>\n",
       "  <tbody>\n",
       "    <tr>\n",
       "      <th>0</th>\n",
       "      <td>1254</td>\n",
       "      <td>0.12</td>\n",
       "      <td>401.28</td>\n",
       "    </tr>\n",
       "    <tr>\n",
       "      <th>1</th>\n",
       "      <td>749</td>\n",
       "      <td>0.18</td>\n",
       "      <td>149.80</td>\n",
       "    </tr>\n",
       "    <tr>\n",
       "      <th>2</th>\n",
       "      <td>2360</td>\n",
       "      <td>0.21</td>\n",
       "      <td>165.20</td>\n",
       "    </tr>\n",
       "    <tr>\n",
       "      <th>3</th>\n",
       "      <td>896</td>\n",
       "      <td>0.25</td>\n",
       "      <td>89.60</td>\n",
       "    </tr>\n",
       "    <tr>\n",
       "      <th>4</th>\n",
       "      <td>2355</td>\n",
       "      <td>0.26</td>\n",
       "      <td>918.45</td>\n",
       "    </tr>\n",
       "    <tr>\n",
       "      <th>...</th>\n",
       "      <td>...</td>\n",
       "      <td>...</td>\n",
       "      <td>...</td>\n",
       "    </tr>\n",
       "    <tr>\n",
       "      <th>9989</th>\n",
       "      <td>945</td>\n",
       "      <td>0.16</td>\n",
       "      <td>359.10</td>\n",
       "    </tr>\n",
       "    <tr>\n",
       "      <th>9990</th>\n",
       "      <td>1195</td>\n",
       "      <td>0.26</td>\n",
       "      <td>71.70</td>\n",
       "    </tr>\n",
       "    <tr>\n",
       "      <th>9991</th>\n",
       "      <td>1567</td>\n",
       "      <td>0.16</td>\n",
       "      <td>501.44</td>\n",
       "    </tr>\n",
       "    <tr>\n",
       "      <th>9992</th>\n",
       "      <td>1659</td>\n",
       "      <td>0.15</td>\n",
       "      <td>597.24</td>\n",
       "    </tr>\n",
       "    <tr>\n",
       "      <th>9993</th>\n",
       "      <td>1034</td>\n",
       "      <td>0.28</td>\n",
       "      <td>165.44</td>\n",
       "    </tr>\n",
       "  </tbody>\n",
       "</table>\n",
       "<p>9994 rows × 3 columns</p>\n",
       "</div>"
      ],
      "text/plain": [
       "      Sales  Discount  Profit\n",
       "0      1254      0.12  401.28\n",
       "1       749      0.18  149.80\n",
       "2      2360      0.21  165.20\n",
       "3       896      0.25   89.60\n",
       "4      2355      0.26  918.45\n",
       "...     ...       ...     ...\n",
       "9989    945      0.16  359.10\n",
       "9990   1195      0.26   71.70\n",
       "9991   1567      0.16  501.44\n",
       "9992   1659      0.15  597.24\n",
       "9993   1034      0.28  165.44\n",
       "\n",
       "[9994 rows x 3 columns]"
      ]
     },
     "execution_count": 15,
     "metadata": {},
     "output_type": "execute_result"
    }
   ],
   "source": [
    "num_cols=df.select_dtypes(include='number')\n",
    "num_cols"
   ]
  },
  {
   "cell_type": "code",
   "execution_count": 16,
   "id": "f8d7bced",
   "metadata": {},
   "outputs": [
    {
     "data": {
      "text/html": [
       "<div>\n",
       "<style scoped>\n",
       "    .dataframe tbody tr th:only-of-type {\n",
       "        vertical-align: middle;\n",
       "    }\n",
       "\n",
       "    .dataframe tbody tr th {\n",
       "        vertical-align: top;\n",
       "    }\n",
       "\n",
       "    .dataframe thead th {\n",
       "        text-align: right;\n",
       "    }\n",
       "</style>\n",
       "<table border=\"1\" class=\"dataframe\">\n",
       "  <thead>\n",
       "    <tr style=\"text-align: right;\">\n",
       "      <th></th>\n",
       "      <th>Sales</th>\n",
       "      <th>Discount</th>\n",
       "      <th>Profit</th>\n",
       "    </tr>\n",
       "  </thead>\n",
       "  <tbody>\n",
       "    <tr>\n",
       "      <th>Sales</th>\n",
       "      <td>1.000000</td>\n",
       "      <td>-0.005512</td>\n",
       "      <td>0.605349</td>\n",
       "    </tr>\n",
       "    <tr>\n",
       "      <th>Discount</th>\n",
       "      <td>-0.005512</td>\n",
       "      <td>1.000000</td>\n",
       "      <td>0.000017</td>\n",
       "    </tr>\n",
       "    <tr>\n",
       "      <th>Profit</th>\n",
       "      <td>0.605349</td>\n",
       "      <td>0.000017</td>\n",
       "      <td>1.000000</td>\n",
       "    </tr>\n",
       "  </tbody>\n",
       "</table>\n",
       "</div>"
      ],
      "text/plain": [
       "             Sales  Discount    Profit\n",
       "Sales     1.000000 -0.005512  0.605349\n",
       "Discount -0.005512  1.000000  0.000017\n",
       "Profit    0.605349  0.000017  1.000000"
      ]
     },
     "execution_count": 16,
     "metadata": {},
     "output_type": "execute_result"
    }
   ],
   "source": [
    "num_cols.corr()"
   ]
  },
  {
   "cell_type": "code",
   "execution_count": 27,
   "id": "3535d067",
   "metadata": {},
   "outputs": [
    {
     "data": {
      "image/png": "[encoded data removed]",
      "text/plain": [
       "<Figure size 800x600 with 2 Axes>"
      ]
     },
     "metadata": {},
     "output_type": "display_data"
    }
   ],
   "source": [
    "plt.figure(figsize=(8, 6))\n",
    "sns.heatmap(num_cols.corr(), cmap='coolwarm', annot=True)\n",
    "plt.title(\"Feature Correlation\")\n",
    "plt.show()"
   ]
  },
  {
   "cell_type": "code",
   "execution_count": null,
   "id": "0cde8a73",
   "metadata": {},
   "outputs": [],
   "source": []
  }
 ],
 "metadata": {
  "kernelspec": {
   "display_name": "ojt",
   "language": "python",
   "name": "python3"
  },
  "language_info": {
   "codemirror_mode": {
    "name": "ipython",
    "version": 3
   },
   "file_extension": ".py",
   "mimetype": "text/x-python",
   "name": "python",
   "nbconvert_exporter": "python",
   "pygments_lexer": "ipython3",
   "version": "3.12.0"
  }
 },
 "nbformat": 4,
 "nbformat_minor": 5
}
